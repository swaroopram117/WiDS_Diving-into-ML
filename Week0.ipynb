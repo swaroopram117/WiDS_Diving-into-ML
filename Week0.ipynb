{
  "cells": [
    {
      "cell_type": "markdown",
      "metadata": {
        "id": "0q8CIlBHRxKv"
      },
      "source": [
        "# **Week 0 : Introduction to Python**\n",
        "In this assignment, we shall be providing a class template where you have to fill code in indicated areas. Let's get started!\n"
      ]
    },
    {
      "cell_type": "markdown",
      "metadata": {
        "id": "m4b3tHfuTOrh"
      },
      "source": [
        "<img src=\"https://www.python.org/static/community_logos/python-logo-master-v3-TM.png\"\n",
        " style=\"float:right;width:50px;height:50px;\">"
      ]
    },
    {
      "cell_type": "markdown",
      "metadata": {
        "id": "tK5oDi2_bRFD"
      },
      "source": [
        "# **Importing Libraries**\n",
        "Feel free to import any additional libraries required"
      ]
    },
    {
      "cell_type": "code",
      "execution_count": 67,
      "metadata": {
        "id": "tDaWKbPibNj1"
      },
      "outputs": [],
      "source": [
        "# Import all libraries here\n",
        "import numpy as np\n",
        "import pandas as pd\n",
        "import matplotlib.pyplot as plt\n",
        "import time,os,torch,torchvision,cv2\n",
        "from pylab import imshow, show\n",
        "%matplotlib inline"
      ]
    },
    {
      "cell_type": "markdown",
      "metadata": {
        "id": "M0kNSQmBYip0"
      },
      "source": [
        "# *Problem 1*\n",
        "In this problem, we will explore the concept of vectorising processes. Hence, we will focus upon eliminating as many for loops as possible and compare performance with and without for loops using python libraries.\n",
        "We will be computing\n",
        "\\begin{equation}\n",
        "s = \\sum_{i=1}^{N}w.v[i]\n",
        "\\end{equation}\n",
        "for a given matrix \n",
        "\\begin{equation}\n",
        "M = [v(1)\\text{  }v(2){}_{\\cdots}\\text{  }v(N)]\n",
        "\\end{equation}\n",
        "\n",
        "In the function : \\\\\n",
        "1. iterative_mult(w) : Iteratively multiply the row vector w with each of the columns of the matrix M (using a for loop), and return the addition of all results.\n",
        "2. matrix_mult(w) : Multiply the row vector w with the matrix M and add the resulting columns using a function of the matrix library.\n",
        "3. comparison(w) : Call the previous two functions here and measure the time taken in each of them using a python library. Store the times in variables time_iterative, time_matrix."
      ]
    },
    {
      "cell_type": "code",
      "execution_count": 55,
      "metadata": {
        "id": "k8IPZ0BmVpKv"
      },
      "outputs": [],
      "source": [
        " v = np.random.rand(1, 100)\n",
        "class Tester : \n",
        "\n",
        "  def __init__(self, M) :  \n",
        "    self.M = M\n",
        "\n",
        "  def iterative_mult(self,w) :\n",
        "\n",
        "    ### INSERT CODE BELOW  ###\n",
        "     iterative= 0.0\n",
        "    \n",
        "     for i in range(n):\n",
        "        iterative= iterative + w[i]*v[i]\n",
        "\n",
        "     return iterative\n",
        "\n",
        "     \n",
        "    ### INSERT CODE ABOVE ### \n",
        "\n",
        "  def matrix_mult(self,w) :\n",
        "\n",
        "    ### INSERT CODE BELOW  ###\n",
        "     matrix= 0.0\n",
        "    \n",
        "     matrix = np.dot(w.transpose() , v)\n",
        "\n",
        "     return matrix\n",
        "\n",
        "    \n",
        "    ### INSERT CODE ABOVE ###\n",
        "\n",
        "  def comparison(self,w) :\n",
        "\n",
        "    time_iterative = 0\n",
        "    time_matrix = 0\n",
        "\n",
        "    ### INSERT CODE BELOW  ###\n",
        "    time_iterative= %timeit w.iterative_mult( self,w)\n",
        "    time_matrix= %timeit w.matrix_mult(self, w)\n",
        "\n",
        "    \n",
        "    ### INSERT CODE ABOVE ###\n",
        "\n",
        "    print(f'Time taken by iterative method : {time_iterative}\\nTime taken by matrix method : {time_matrix}')\n",
        "\n",
        "    return time_iterative, time_matrix"
      ]
    },
    {
      "cell_type": "markdown",
      "metadata": {
        "id": "4onzhV4KcSAI"
      },
      "source": [
        "Now that we have created a tester class with some basic functionality of performance analysis, we will plot the time taken in both the methods of computing the required quantity. That is, given a row vector w, we want to compute :              \n",
        "\n",
        "\\begin{equation}\n",
        "s = \\sum_{i=1}^{N}w.v(i)\n",
        "\\end{equation}\n",
        "For this purpose, we will use the matplotlib library in python. "
      ]
    },
    {
      "cell_type": "code",
      "execution_count": null,
      "metadata": {
        "colab": {
          "base_uri": "https://localhost:8080/",
          "height": 235
        },
        "id": "AUvkFgHxftZ_",
        "outputId": "fcff9894-6a81-49bd-8877-3b9492d70336"
      },
      "outputs": [],
      "source": [
        "w = np.random.randn(1, 100)\n",
        "results = []\n",
        "max_pow = 5\n",
        "\n",
        "for i in range(max_pow) : \n",
        "\n",
        "  '''\n",
        "  1. Computing the times using Tester object defined above\n",
        "  2. Append the times to the results array\n",
        "  '''\n",
        "\n",
        "  size = np.round(10**i)\n",
        "  M = np.random.randn(100, size)\n",
        "  tester = Tester(M)\n",
        "\n",
        "  ### INSERT CODE BELOW ###\n",
        "  #plot time series\n",
        "plt.plot(M,tester.comparison(self,w),  linewidth=3)\n",
        "#plt.plot(tester.comparision(),  color='red', label='', linewidth=3)\n",
        "\n",
        "#add title and axis labels\n",
        "plt.title('time taken by iterative_mult vs matrix_mult')\n",
        "plt.xlabel('the 2nd dimension of the matrix M')\n",
        "plt.ylabel('time taken by both processes')\n",
        "plt.legend(['iterative', 'matrix'])\n",
        "plt.show()\n",
        "\n",
        "\n",
        "\n",
        "  ### INSERT CODE ABOVE ###\n",
        "\n",
        "'''\n",
        "Now, plot the (line) graph with the axes as : \n",
        "1. X-axis : The 2nd dimension of the matrix M\n",
        "2. Y-axis : The times taken for the two processes\n",
        "\n",
        "Additionally, you must use a legend in order to distinguish the graphs of the two processes.\n",
        "'''\n",
        "\n",
        "### INSERT CODE BELOW ###\n",
        "\n",
        "### INSERT CODE ABOVE ###"
      ]
    },
    {
      "cell_type": "code",
      "execution_count": 57,
      "metadata": {
        "id": "vQgBtdpc0KU3"
      },
      "outputs": [],
      "source": [
        "# i am facing problem in above code and given more than one day still not able \n",
        "#to resolve so i am trying to solve problem another way and this is working \n",
        "\n",
        "# first define size of dataframe and create dataframe\n",
        "N = [10, 100, 1000, 10000, 100000, 1000000, 10000000]\n",
        "time_comparision = pd.DataFrame(columns=['N', 'iterative_mult', \n",
        "                                         'matrix_mult'])\n",
        "time_comparision['N'] = N\n",
        "\n",
        "iterative_mult = []\n",
        "matrix_mult = []\n",
        "\n",
        "for size in N:\n",
        "    w = np.random.rand(size, 1)\n",
        "    v = np.random.rand(size, 1)\n",
        "    \n",
        "    #iterative_mult implementation\n",
        "    start = time.process_time()\n",
        "    iterative_product = 0\n",
        "#iterative multiplication using for loop\n",
        "    for i in range(len(w)):\n",
        "        iterative_product += w[i] * v[i]\n",
        "\n",
        "    end = time.process_time()\n",
        "    #total time taken in iterative multiplication\n",
        "    \n",
        "    iterative_mult.append(1000*(end-start))\n",
        "\n",
        "    #matrix_mult implementation\n",
        "    \n",
        "    start = time.process_time()\n",
        "    matrix_product = 0\n",
        "#multiply transpose of row matrix w with vector matrix v\n",
        "    matrix_product = np.dot(w.T, v)\n",
        "\n",
        "    end = time.process_time()\n",
        "    #total time taken in matrix_multplication using numpy\n",
        "    matrix_mult.append(1000*(end - start))\n",
        "\n",
        "   \n",
        "\n"
      ]
    },
    {
      "cell_type": "code",
      "execution_count": 58,
      "metadata": {
        "id": "dgrHD_6h31DO"
      },
      "outputs": [],
      "source": [
        "#create array for iterative_mult nad matrix_mult\n",
        "time_comparision['iterative_mult'] = iterative_mult\n",
        "time_comparision['matrix_mult'] = matrix_mult\n"
      ]
    },
    {
      "cell_type": "code",
      "execution_count": null,
      "metadata": {
        "colab": {
          "base_uri": "https://localhost:8080/",
          "height": 283
        },
        "id": "hLx_0wCr32KA",
        "outputId": "5cba894b-2a4d-43ac-adf2-d9f1a36ed8ac"
      },
      "outputs": [],
      "source": [
        "#now plot the time copmarision for iterative multiplication and \n",
        "#matrix multiplication with respect to size \n",
        "#we have taken at X-axis size and at y-axis time taken by both processes \n",
        "#plot N vs iterative_mult\n",
        "plt.plot(time_comparision['N'], time_comparision['iterative_mult'])\n",
        "# plot N vs matrix_mult\n",
        "plt.plot(time_comparision['N'], time_comparision['matrix_mult'])\n",
        "\n",
        "plt.xscale(value='log')\n",
        "#at xlabel size taken\n",
        "plt.xlabel(\"Size of the matrix \")\n",
        "#at ylabel time taken\n",
        "plt.ylabel(\"Time taken for the both proceses in ms\")\n",
        "#legend used to show iterative_mult and matrix_mult curve \n",
        "#blue line for iterative_mult and yellow for matrix_mult\n",
        "plt.legend(['iterative_mult', 'matrix_mult'])\n",
        "plt.show()\n",
        "    "
      ]
    },
    {
      "cell_type": "markdown",
      "metadata": {
        "id": "n_tp5arYsWN9"
      },
      "source": [
        "# **Observations**\n",
        "\n",
        "Now that we have successfully plotted the graphs, you can comment on the differences in the two times of computation. Please write your observations in the text box provided below. Make sure to note down the following : \\\\\n",
        "1. The approximate order of times obtained in the two processes (s/ms/$\\mu$s/ns) : ms\n",
        "2. The method which results in lower computation times and by what factor:matrix_mult gives lower computation time compared to iterative_mult computation.\n",
        "3. Some possible explanation for your observation (after some googling perhaps): matrix_mult is playing very important role even after increasing size of matrix that why vectorization preffered compared to iterative using for loop. loop takes to much time as size of data increases."
      ]
    },
    {
      "cell_type": "markdown",
      "metadata": {
        "id": "kTQfyDLxtq01"
      },
      "source": [
        "Insert observations here (double-click to edit the cell)\n",
        "1. The approximate order of times obtained in the two processes (s/ms/$\\mu$s/ns) : ms\n",
        "2. The method which results in lower computation times and by what factor:matrix_mult gives lower computation time compared to iterative_mult computation.\n",
        "3. Some possible explanation for your observation (after some googling perhaps): matrix_mult is playing very important role even after increasing size of matrix that why vectorization preffered compared to iterative using for loop. loop takes to much time as size of data increases."
      ]
    },
    {
      "cell_type": "markdown",
      "metadata": {
        "id": "dIH2wqFnpfHj"
      },
      "source": [
        "# *Problem 2*\n",
        "\n",
        "In this assignment, you will be loading the famous [MNIST](http://yann.lecun.com/exdb/mnist/) dataset (a large dataset of hand-written images of numbers) from a *CSV* (comma separated values) file and performing various operations on them. \n",
        "\n",
        "Enjoy!\n",
        "\n",
        "\n"
      ]
    },
    {
      "cell_type": "markdown",
      "metadata": {
        "id": "gynBLuybpt0N"
      },
      "source": [
        "\n",
        "<img src=\"https://journaldev.nyc3.digitaloceanspaces.com/2020/10/mnist-dataset.png\"\n",
        " style=\"float:right;width:50px;height:50px;\">"
      ]
    },
    {
      "cell_type": "markdown",
      "metadata": {
        "id": "m44OKyYhpwV-"
      },
      "source": [
        "# **Loading Data**\n",
        "Let's start by loading the csv file in the main repo. Figure out how to load a file onto Google Colab (or whichever notebook you're using). The data can be downloaded from [here](https://drive.google.com/file/d/1p-rZZRrdbK05uIwRvwnkinpJI5o2griD/view?usp=share_link)\n"
      ]
    },
    {
      "cell_type": "code",
      "execution_count": null,
      "metadata": {
        "colab": {
          "base_uri": "https://localhost:8080/"
        },
        "id": "kPt2MwMDp2n8",
        "outputId": "8982fd5f-251e-46a5-e5b0-6ab6051683dc"
      },
      "outputs": [],
      "source": [
        "# Insert code to load the csv file into the notebook\n",
        "\n",
        "from google.colab import drive #drive.mount('/content/drive')\n",
        "\n",
        "\n",
        "!wget -q --show-progress --load-cookies /tmp/cookies.txt \"https://docs.google.com/uc?export=download&confirm=$(wget --quiet --save-cookies /tmp/cookies.txt --keep-session-cookies --no-check-certificate 'https://docs.google.com/uc?export=1p-rZZRrdbK05uIwRvwnkinpJI5o2griD' -O- | sed -rn 's/.*confirm=([0-9A-Za-z_]+).*/\\1\\n/p')&id=1p-rZZRrdbK05uIwRvwnkinpJI5o2griD\" -O mnist.csv && rm -rf /tmp/cookies.txt\n"
      ]
    },
    {
      "cell_type": "code",
      "execution_count": 61,
      "metadata": {
        "id": "gbzg3gIkVMb5"
      },
      "outputs": [],
      "source": [
        "# or follow this this is also best method\n",
        "from tensorflow.keras.datasets import mnist\n",
        "\n",
        "(x_train,y_train),(x_test,y_test)=mnist.load_data()\n"
      ]
    },
    {
      "cell_type": "markdown",
      "metadata": {
        "id": "M_OrOB1_p4Gv"
      },
      "source": [
        "# **Reading from a CSV File**\n",
        "Now, let's read the values from the csv file! If you were to look into the file, you would see that each row has a long list of numbers, with the first column having numbers between **$0$ and $9$**, and the remaining columns having values from **$0$ to $255$** (make any sense?)\n",
        "\n",
        "Feel free to store the data in any way you want, to set up future operations with those rows (you might want to read the following tasks before deciding how you would store this data, if it helps). \n",
        "\n",
        "Also, make use of the `csv` module to read csv files. There are many other ways, but this should do for this assignment at least."
      ]
    },
    {
      "cell_type": "code",
      "execution_count": null,
      "metadata": {
        "colab": {
          "base_uri": "https://localhost:8080/",
          "height": 424
        },
        "id": "Hlw5xlGvp-aW",
        "outputId": "13c5758f-e70d-4b78-c1a9-ea317283ad8a"
      },
      "outputs": [],
      "source": [
        "# Insert code to store the contents of the file in a variable (or many variables, if you want)\n",
        "import pandas as pd\n",
        "df=pd.read_csv('mnist.csv')\n",
        "df\n",
        "\n"
      ]
    },
    {
      "cell_type": "markdown",
      "metadata": {
        "id": "le_5vpHDqCca"
      },
      "source": [
        "# **Organising Data**\n",
        "\n",
        "If you didn't figure out what the first column was supposed to be, no worries : they are the labels of the corresponding images. The remaining $784$ columns ($28 \\times 28$) correspond to the *gray-scale pixel values* of the $784$ pixels present in each image of a number.\n",
        "\n",
        "For example, the first row in the dataset has a label of $7$, signifying that the next $784$ values correspond to an image of the number $7$. These $784$ pixels are ordered **row-wise**, so the first $28$ are for the first row, the next $28$ for the second, and so on.\n",
        "\n",
        "Your tasks are the following : \n",
        "\n",
        "* Separate out the first column of values and store them separately as labels, you'll need them later\n",
        "\n",
        "* Once you're done with that, reshape the rows (after the removal of the labels) into matrices with dimension $28 \\times 28$ (If you've learnt *anything* from the first assignment, it should be to avoid using loops as much as possible, so think of, or search for, an inbuilt function that can reshape a matrix)\n",
        "\n",
        "**Note** : Just like vectors have a *depth* of $1$ and matrices have a *depth* of $2$, `matrix` supports objects that can have a *depth* greater than $2$. \n",
        "\n",
        "This generalisation can be thought of as a **Tensor**, and the *depth* is called the *rank* or the *order* of the Tensor. If you've stored your initial data as a matrix, try and reshape it into a tensor of rank $3$, for the second task."
      ]
    },
    {
      "cell_type": "code",
      "execution_count": null,
      "metadata": {
        "colab": {
          "base_uri": "https://localhost:8080/"
        },
        "id": "FVTpVOILqFsg",
        "outputId": "94ec0a80-77a6-44c9-aa7d-f0019a37428d"
      },
      "outputs": [],
      "source": [
        "# Write your code here\n",
        "#(x_train,y_train),(x_test,y_test)=df\n",
        "matrix2 = df[df.columns[0]]\n",
        "list2 = matrix2\n",
        "list2"
      ]
    },
    {
      "cell_type": "markdown",
      "metadata": {
        "id": "etE1DamBqJ2D"
      },
      "source": [
        "# **Plotting images**\n",
        "Now that you have the data, in the form we want it in, go ahead and plot the first image! (Google it!)"
      ]
    },
    {
      "cell_type": "code",
      "execution_count": null,
      "metadata": {
        "colab": {
          "base_uri": "https://localhost:8080/",
          "height": 265
        },
        "id": "u5JakJ_PqMZ9",
        "outputId": "06134491-3c4a-464c-8e0e-52797afd52ca"
      },
      "outputs": [],
      "source": [
        "# Write your code here\n",
        "#pick a sample to plot\n",
        "sample =1 \n",
        "single_image= x_train[sample]\n",
        "\n",
        "#plot the sample\n",
        "fig=plt.figure\n",
        "plt.imshow(single_image,cmap='gray')\n",
        "plt.show()\n",
        "\n"
      ]
    },
    {
      "cell_type": "markdown",
      "metadata": {
        "id": "WNmWhDN-qP-j"
      },
      "source": [
        "# **Grouping Images**\n",
        "\n",
        "Let's try and group those images together, based on their labels. This is slightly (maybe more than slightly) harder to understand (just using inbuilt functions), but the objective is the same : To try and minimise the number of iterations performed outside of matrix\n",
        "\n",
        "Hint : You could also do this with $10$ iterations, which is the number of digits, and with $60000$ iterations, which is the number of images we have, so if you can't find any way without loops, try to find a way with $10$ iterations rather than $60000$"
      ]
    },
    {
      "cell_type": "code",
      "execution_count": null,
      "metadata": {
        "colab": {
          "base_uri": "https://localhost:8080/"
        },
        "id": "Loxdwb-TqQ5O",
        "outputId": "edecec04-5a6a-45a4-f24d-0cecf78dc94b"
      },
      "outputs": [],
      "source": [
        "# Write your code here\n",
        "#to group images and plotting together we define to numpy arrays to store and labels\n",
        "\n",
        "number=10\n",
        "images=x_train[ :number]\n",
        "labels=y_train[ :number]\n",
        "print('x_train: ' + str(x_train.shape))\n",
        "print('y_train: ' + str(y_train.shape))\n",
        "print('x_test:  '  + str(x_test.shape))\n",
        "print('y_test:  '  + str(y_test.shape))\n"
      ]
    },
    {
      "cell_type": "code",
      "execution_count": null,
      "metadata": {
        "colab": {
          "base_uri": "https://localhost:8080/",
          "height": 451
        },
        "id": "LSYAxHBqCrf9",
        "outputId": "a35df3f5-4a0d-4ef4-c790-32c263977bcc"
      },
      "outputs": [],
      "source": [
        "#initialize figure and axes using matplotlib subplots command\n",
        "number_row=2\n",
        "number_column=5\n",
        "#plot images\n",
        "fig,axes=plt.subplots(number_row,number_column,figsize=(2*number_column,2*number_row))\n",
        "for i in range(number):\n",
        "  ax=axes[i//number_column,i%number_column]\n",
        "  ax.imshow(images[i],cmap='gray')\n",
        "  ax.set_title('Label:{}'.format(labels[i]))\n",
        "  plt.tight_layout()\n",
        "  plt.show()"
      ]
    },
    {
      "cell_type": "markdown",
      "metadata": {
        "id": "TQrWoJw9qU9I"
      },
      "source": [
        "# **Computing Mean Images**\n",
        "\n",
        "Now that we have our data grouped, let's try to calculate the mean of the images corresponding to a particular label.\n",
        "\n",
        "Don't forget to plot all of them!"
      ]
    },
    {
      "cell_type": "code",
      "execution_count": null,
      "metadata": {
        "colab": {
          "base_uri": "https://localhost:8080/"
        },
        "id": "Dp8jlsfOqWOk",
        "outputId": "e298736a-7dca-4ec5-8a42-700adf82c034"
      },
      "outputs": [],
      "source": [
        "# Write your code here for an array of 10 images, each representing the mean image of a number from 0 to 9, in order. Also plot them!\n",
        "from pathlib import Path\n",
        "imageFilesDir = Path(r'/content/drive/MyDrive/Colab Notebooks/mnist.csv')\n",
        "files = list(imageFilesDir.rglob('*.jpg'))\n",
        "len(files)\n",
        "mean = np.array([0.,0.,0.])\n",
        "numSamples = len(files)\n",
        "for i in range(numSamples):\n",
        "    im = cv2.imread(str(files[i]))\n",
        "    im = cv2.cvtColor(im, cv2.COLOR_gray)\n",
        "    im = im.astype(float) / 255.\n",
        "    np.seterr(divide='ignore',invalid='ignore')\n",
        "    for j in range(3):\n",
        "      mean[j] += np.mean(im[:,:,j])\n",
        "mean = (mean/numSamples)\n",
        "print(mean)\n"
      ]
    },
    {
      "cell_type": "markdown",
      "metadata": {
        "id": "jYwZ3wlVt8eq"
      },
      "source": [
        "# **Submission**\n",
        "\n",
        "Please upload the edited version of this notebook in the github classroom, with your file labelled as \\<roll_number\\>_week0.ipynb"
      ]
    },
    {
      "attachments": {},
      "cell_type": "markdown",
      "metadata": {
        "id": "hAEaTNZxUiyK"
      },
      "source": [
        "refrences\n",
        "\n",
        "https://inside-machinelearning.com/en/quickly-upload-public-google-drive-files-on-notebook-and-colab/\n",
        "https://www.analyticsvidhya.com/blog/2021/06/complete-guide-to-working-with-csv-files-in-python-with-pandas/\n",
        "https://stackoverflow.com/questions/39662891/read-in-the-first-column-of-a-csv-in-python\n",
        "https://colah.github.io/posts/2014-10-Visualizing-MNIST/\n",
        "https://www.kaggle.com/code/yushg123/for-loops-vs-vectorized-who-wins-and-by-how-much/notebook"
      ]
    }
  ],
  "metadata": {
    "colab": {
      "provenance": []
    },
    "kernelspec": {
      "display_name": "Python 3",
      "language": "python",
      "name": "python3"
    },
    "language_info": {
      "name": "python",
      "version": "3.10.7 (main, Nov 24 2022, 19:45:47) [GCC 12.2.0]"
    },
    "vscode": {
      "interpreter": {
        "hash": "916dbcbb3f70747c44a77c7bcd40155683ae19c65e1c03b4aa3499c5328201f1"
      }
    }
  },
  "nbformat": 4,
  "nbformat_minor": 0
}
